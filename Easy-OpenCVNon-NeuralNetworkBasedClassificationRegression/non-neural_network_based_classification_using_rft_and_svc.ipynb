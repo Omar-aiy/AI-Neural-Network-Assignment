{
 "cells": [
  {
   "cell_type": "markdown",
   "id": "618cec8e",
   "metadata": {},
   "source": [
    "Imports necessary libraries including cv2, pandas, numpy, and sklearn."
   ]
  },
  {
   "cell_type": "code",
   "execution_count": null,
   "id": "a9739414",
   "metadata": {},
   "outputs": [],
   "source": [
    "import cv2\n",
    "import pandas as pd\n",
    "import numpy as np\n",
    "from sklearn.ensemble import RandomForestClassifier\n",
    "from sklearn.svm import SVC\n",
    "import os\n",
    "from numpy import vstack\n",
    "from numpy import concatenate\n",
    "from sklearn.model_selection import train_test_split"
   ]
  },
  {
   "cell_type": "markdown",
   "id": "2aa473a8",
   "metadata": {},
   "source": [
    "Reads a csv file named \"swarmIoT_full_labeled_dataset.csv\" using the pandas library and assigns the 'choice' column to the variable 'labels'."
   ]
  },
  {
   "cell_type": "code",
   "execution_count": null,
   "id": "2caa9cd6",
   "metadata": {},
   "outputs": [],
   "source": [
    "data = pd.read_csv(\"swarmIoT_full_labeled_dataset.csv\")\n",
    "\n",
    "labels = data['choice']"
   ]
  },
  {
   "cell_type": "markdown",
   "id": "617987de",
   "metadata": {},
   "source": [
    "Replaces NaN values in the 'labels' variable with 0."
   ]
  },
  {
   "cell_type": "code",
   "execution_count": null,
   "id": "8b515b03",
   "metadata": {},
   "outputs": [],
   "source": [
    "\n",
    "nan_indices = np.where(np.isnan(labels))\n",
    "\n",
    "\n",
    "nan_indices = nan_indices[0]\n",
    "\n",
    "\n",
    "labels[nan_indices] = 0"
   ]
  },
  {
   "cell_type": "markdown",
   "id": "47780ae8",
   "metadata": {},
   "source": [
    "Reads images from a specified directory using the cv2 library and appends them to a list called 'images'."
   ]
  },
  {
   "cell_type": "code",
   "execution_count": null,
   "id": "4000e8b9",
   "metadata": {},
   "outputs": [],
   "source": [
    "images = []\n",
    "path = \"yourpathtotheimages\"\n",
    "for i in range(len(data)):\n",
    "    image_name = data['image'][i]\n",
    "    if '-' in image_name:\n",
    "        image_name = image_name.split(\"-\")[1]\n",
    "    image_path = os.path.join(path, image_name)\n",
    "    \n",
    "    image = cv2.imread(image_path)\n",
    "    images.append(image)"
   ]
  },
  {
   "cell_type": "markdown",
   "id": "777a8db6",
   "metadata": {},
   "source": [
    "Converts the images in 'images' list to grayscale and appends them to a list called 'gray_images'. Grayscaling an image means converting it to a single-channel image, where each pixel is represented by a single intensity value, as opposed to a 3-channel image where each pixel is represented by 3 values (red, green, and blue)."
   ]
  },
  {
   "cell_type": "code",
   "execution_count": null,
   "id": "75cf38bf",
   "metadata": {},
   "outputs": [],
   "source": [
    "gray_images = []\n",
    "for image in images:\n",
    "    if image is not None:\n",
    "        gray = cv2.cvtColor(image, cv2.COLOR_BGR2GRAY)\n",
    "        gray_images.append(gray)\n",
    "    else:\n",
    "        print(\"Skipping empty image:\", data['image'][i])"
   ]
  },
  {
   "cell_type": "markdown",
   "id": "6e5c9f9a",
   "metadata": {},
   "source": [
    "Resizes the images in 'gray_images' to 100x100 and appends them to a list called 'resized_images'. Resizing the images is done to make the images all the same size, which is necessary for the next step of the code where the SIFT features are extracted. It's also possible that the model's input size needs to be fixed. The image size is resized to 100x100 pixels. This is an arbitrary size and can be changed depending on the requirements of the task and available computational resources."
   ]
  },
  {
   "cell_type": "code",
   "execution_count": 1,
   "id": "a2370078",
   "metadata": {},
   "outputs": [
    {
     "ename": "NameError",
     "evalue": "name 'gray_images' is not defined",
     "output_type": "error",
     "traceback": [
      "\u001b[1;31m---------------------------------------------------------------------------\u001b[0m",
      "\u001b[1;31mNameError\u001b[0m                                 Traceback (most recent call last)",
      "\u001b[1;32m~\\AppData\\Local\\Temp\\ipykernel_5112\\1635994025.py\u001b[0m in \u001b[0;36m<module>\u001b[1;34m\u001b[0m\n\u001b[0;32m      1\u001b[0m \u001b[0mresized_images\u001b[0m \u001b[1;33m=\u001b[0m \u001b[1;33m[\u001b[0m\u001b[1;33m]\u001b[0m\u001b[1;33m\u001b[0m\u001b[1;33m\u001b[0m\u001b[0m\n\u001b[1;32m----> 2\u001b[1;33m \u001b[1;32mfor\u001b[0m \u001b[0mgray\u001b[0m \u001b[1;32min\u001b[0m \u001b[0mgray_images\u001b[0m\u001b[1;33m:\u001b[0m\u001b[1;33m\u001b[0m\u001b[1;33m\u001b[0m\u001b[0m\n\u001b[0m\u001b[0;32m      3\u001b[0m     \u001b[0mresized\u001b[0m \u001b[1;33m=\u001b[0m \u001b[0mcv2\u001b[0m\u001b[1;33m.\u001b[0m\u001b[0mresize\u001b[0m\u001b[1;33m(\u001b[0m\u001b[0mgray\u001b[0m\u001b[1;33m,\u001b[0m \u001b[1;33m(\u001b[0m\u001b[1;36m100\u001b[0m\u001b[1;33m,\u001b[0m \u001b[1;36m100\u001b[0m\u001b[1;33m)\u001b[0m\u001b[1;33m)\u001b[0m\u001b[1;33m\u001b[0m\u001b[1;33m\u001b[0m\u001b[0m\n\u001b[0;32m      4\u001b[0m     \u001b[0mresized_images\u001b[0m\u001b[1;33m.\u001b[0m\u001b[0mappend\u001b[0m\u001b[1;33m(\u001b[0m\u001b[0mresized\u001b[0m\u001b[1;33m)\u001b[0m\u001b[1;33m\u001b[0m\u001b[1;33m\u001b[0m\u001b[0m\n",
      "\u001b[1;31mNameError\u001b[0m: name 'gray_images' is not defined"
     ]
    }
   ],
   "source": [
    "resized_images = []\n",
    "for gray in gray_images:\n",
    "    resized = cv2.resize(gray, (100, 100))\n",
    "    resized_images.append(resized)"
   ]
  },
  {
   "cell_type": "markdown",
   "id": "458ae852",
   "metadata": {},
   "source": [
    "Extracts SIFT features from the images in 'resized_images' and appends them to a list called 'feature_vectors'."
   ]
  },
  {
   "cell_type": "code",
   "execution_count": null,
   "id": "5d240cf9",
   "metadata": {},
   "outputs": [],
   "source": [
    "sift = cv2.xfeatures2d.SIFT_create()\n",
    "feature_vectors = []\n",
    "for i in range(len(data)):\n",
    "    try:\n",
    "        keypoints, descriptor = sift.detectAndCompute(resized_images[i], None)\n",
    "        feature_vectors.append(descriptor)\n",
    "    except:\n",
    "        print(\"Skipping image with no keypoints or descriptor:\", data['image'][i])\n",
    "\n",
    "valid_indices = [i for i in range(len(feature_vectors)) if feature_vectors[i].shape[1] == 128]\n",
    "feature_vectors = [feature_vectors[i] for i in valid_indices]\n",
    "labels = labels[valid_indices]\n",
    "\n",
    "# reshape feature_vectors\n",
    "feature_vectors = np.array(feature_vectors)\n",
    "feature_vectors = feature_vectors.reshape(-1, feature_vectors.shape[-1])"
   ]
  },
  {
   "cell_type": "markdown",
   "id": "1afa2709",
   "metadata": {},
   "source": [
    "Splits the data into training and test sets, using 80% of the data for training and 20% for testing."
   ]
  },
  {
   "cell_type": "code",
   "execution_count": 1,
   "id": "0f587437",
   "metadata": {},
   "outputs": [
    {
     "ename": "NameError",
     "evalue": "name 'train_test_split' is not defined",
     "output_type": "error",
     "traceback": [
      "\u001b[1;31m---------------------------------------------------------------------------\u001b[0m",
      "\u001b[1;31mNameError\u001b[0m                                 Traceback (most recent call last)",
      "\u001b[1;32m~\\AppData\\Local\\Temp\\ipykernel_3260\\2357383781.py\u001b[0m in \u001b[0;36m<module>\u001b[1;34m\u001b[0m\n\u001b[1;32m----> 1\u001b[1;33m \u001b[0mX_train\u001b[0m\u001b[1;33m,\u001b[0m \u001b[0mX_test\u001b[0m\u001b[1;33m,\u001b[0m \u001b[0my_train\u001b[0m\u001b[1;33m,\u001b[0m \u001b[0my_test\u001b[0m \u001b[1;33m=\u001b[0m \u001b[0mtrain_test_split\u001b[0m\u001b[1;33m(\u001b[0m\u001b[0mfeature_vectors\u001b[0m\u001b[1;33m,\u001b[0m \u001b[0mlabels\u001b[0m\u001b[1;33m,\u001b[0m \u001b[0mtest_size\u001b[0m\u001b[1;33m=\u001b[0m\u001b[1;36m0.2\u001b[0m\u001b[1;33m,\u001b[0m \u001b[0mrandom_state\u001b[0m\u001b[1;33m=\u001b[0m\u001b[1;36m42\u001b[0m\u001b[1;33m)\u001b[0m\u001b[1;33m\u001b[0m\u001b[1;33m\u001b[0m\u001b[0m\n\u001b[0m",
      "\u001b[1;31mNameError\u001b[0m: name 'train_test_split' is not defined"
     ]
    }
   ],
   "source": [
    "X_train, X_test, y_train, y_test = train_test_split(feature_vectors, labels, test_size=0.2, random_state=42)"
   ]
  },
  {
   "cell_type": "markdown",
   "id": "89a37f47",
   "metadata": {},
   "source": [
    "Fits a RandomForestClassifier and a Support Vector Classifier (SVC) to the training data. ,both classifiers are trained on the same data and then used to predict the class of a new image. This allows for a comparison of the performance of the two classifiers on this particular dataset and task."
   ]
  },
  {
   "cell_type": "code",
   "execution_count": null,
   "id": "35f16751",
   "metadata": {},
   "outputs": [],
   "source": [
    "clf = RandomForestClassifier()\n",
    "clf.fit(X_train, y_train)\n",
    "\n",
    "\n",
    "clf1 = SVC()\n",
    "clf1.fit(X_train, y_train)"
   ]
  },
  {
   "cell_type": "markdown",
   "id": "4b66410a",
   "metadata": {},
   "source": [
    "Reads an image called \"new_image.jpg\", converts it to grayscale, resizes it to 100x100, extracts SIFT features from it, and predicts its class using the two trained classifiers. The predictions are printed to the console."
   ]
  },
  {
   "cell_type": "code",
   "execution_count": null,
   "id": "18aef086",
   "metadata": {},
   "outputs": [],
   "source": [
    "print(\"predicting\")\n",
    "new_image = cv2.imread(\"new_image.jpg\")\n",
    "gray = cv2.cvtColor(new_image, cv2.COLOR_BGR2GRAY)\n",
    "resized = cv2.resize(gray, (100, 100))\n",
    "keypoints, descriptor = sift.detectAndCompute(resized, None)\n",
    "prediction = clf.predict(descriptor)\n",
    "prediction1 = clf1.predict(descriptor)"
   ]
  }
 ],
 "metadata": {
  "kernelspec": {
   "display_name": "Python 3 (ipykernel)",
   "language": "python",
   "name": "python3"
  },
  "language_info": {
   "codemirror_mode": {
    "name": "ipython",
    "version": 3
   },
   "file_extension": ".py",
   "mimetype": "text/x-python",
   "name": "python",
   "nbconvert_exporter": "python",
   "pygments_lexer": "ipython3",
   "version": "3.9.13"
  }
 },
 "nbformat": 4,
 "nbformat_minor": 5
}
